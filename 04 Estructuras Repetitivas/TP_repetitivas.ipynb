{
 "cells": [
  {
   "cell_type": "code",
   "execution_count": null,
   "id": "3f24872b",
   "metadata": {},
   "outputs": [],
   "source": [
    "# Ejercicio 1\n",
    "for i in range(101):\n",
    "    print(i)"
   ]
  },
  {
   "cell_type": "code",
   "execution_count": null,
   "id": "08b30761",
   "metadata": {},
   "outputs": [
    {
     "name": "stdout",
     "output_type": "stream",
     "text": [
      "5\n"
     ]
    }
   ],
   "source": [
    "# Ejercicio 2\n",
    "\n",
    "#guardamos la variable num como string\n",
    "num = str(input(\"Ingrese un numero: \"))\n",
    "digitos = 0\n",
    "\n",
    "#iteramos sobre cada digito del numero ingresado y lo sumamos a la variable digito\n",
    "for i in num:\n",
    "    digitos+=1\n",
    "print(f\"La cantidad de digitos que tiene tu numero es de: {digitos}\")"
   ]
  },
  {
   "cell_type": "code",
   "execution_count": null,
   "id": "af8dfb08",
   "metadata": {},
   "outputs": [
    {
     "name": "stdout",
     "output_type": "stream",
     "text": [
      "14\n"
     ]
    }
   ],
   "source": [
    "# Ejercicio 3\n",
    "# guardamos numeros ingresados en las variables num_1 y num_2\n",
    "num_1 = int(input(\"Ingrese el primer numero: \"))\n",
    "num_2 = int(input(\"Ingrese el segundo numero: \"))\n",
    "\n",
    "suma = 0\n",
    "#iteramos desde num_1 hasta num_2 (incluimos num_2 con +1) y sumamos cada numero\n",
    "for i in range(num_1, num_2+1):\n",
    "    suma += i\n",
    "\n",
    "print(suma)"
   ]
  },
  {
   "cell_type": "code",
   "execution_count": 3,
   "id": "b9c7e722",
   "metadata": {},
   "outputs": [
    {
     "name": "stdout",
     "output_type": "stream",
     "text": [
      "las suma de sus numero es de 10\n"
     ]
    }
   ],
   "source": [
    "# Ejercicio 4\n",
    "x = 1\n",
    "suma = 0\n",
    "while x == 1:\n",
    "    num = int(input(\"Ingrese un numero: \"))\n",
    "    if num == 0:\n",
    "        x = 0\n",
    "    else:\n",
    "        suma += num\n",
    "print (f\"las suma de sus numero es de {suma}\")"
   ]
  }
 ],
 "metadata": {
  "kernelspec": {
   "display_name": "Python 3",
   "language": "python",
   "name": "python3"
  },
  "language_info": {
   "codemirror_mode": {
    "name": "ipython",
    "version": 3
   },
   "file_extension": ".py",
   "mimetype": "text/x-python",
   "name": "python",
   "nbconvert_exporter": "python",
   "pygments_lexer": "ipython3",
   "version": "3.10.2"
  }
 },
 "nbformat": 4,
 "nbformat_minor": 5
}
