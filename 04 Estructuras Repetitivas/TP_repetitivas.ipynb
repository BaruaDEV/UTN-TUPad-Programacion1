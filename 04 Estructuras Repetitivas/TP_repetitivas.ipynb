{
 "cells": [
  {
   "cell_type": "code",
   "execution_count": null,
   "id": "3f24872b",
   "metadata": {},
   "outputs": [],
   "source": [
    "# Ejercicio 1\n",
    "for i in range(101):\n",
    "    print(i)"
   ]
  },
  {
   "cell_type": "code",
   "execution_count": null,
   "id": "08b30761",
   "metadata": {},
   "outputs": [],
   "source": [
    "# Ejercicio 2\n",
    "\n",
    "#guardamos la variable num como string\n",
    "num = str(input(\"Ingrese un numero: \"))\n",
    "digitos = 0\n",
    "\n",
    "#iteramos sobre cada digito del numero ingresado y lo sumamos a la variable digito\n",
    "for i in num:\n",
    "    digitos+=1\n",
    "print(f\"La cantidad de digitos que tiene tu numero es de: {digitos}\")"
   ]
  },
  {
   "cell_type": "code",
   "execution_count": null,
   "id": "af8dfb08",
   "metadata": {},
   "outputs": [],
   "source": [
    "# Ejercicio 3\n",
    "# guardamos numeros ingresados en las variables num_1 y num_2\n",
    "num_1 = int(input(\"Ingrese el primer numero: \"))\n",
    "num_2 = int(input(\"Ingrese el segundo numero: \"))\n",
    "\n",
    "suma = 0\n",
    "#iteramos desde num_1 hasta num_2 (excluimos los numeros ingresados) y sumamos cada numero\n",
    "for i in range(num_1+1, num_2):\n",
    "    suma += i\n",
    "\n",
    "print(suma)"
   ]
  },
  {
   "cell_type": "code",
   "execution_count": null,
   "id": "b9c7e722",
   "metadata": {},
   "outputs": [],
   "source": [
    "# Ejercicio 4\n",
    "\n",
    "#Definimos la variable x para manipular el bucle y suma para hacer la cuenta\n",
    "x = 1\n",
    "suma = 0\n",
    "\n",
    "while x == 1:\n",
    "    #Dentro del bucle solicitamos el numero a sumar\n",
    "    num = int(input(\"Ingrese un numero: \"))\n",
    "    #Si ingresa 0 el bucle se detiene\n",
    "    if num == 0:\n",
    "        x = 0\n",
    "    #Sino suma el numero\n",
    "    else:\n",
    "        suma += num\n",
    "print (f\"las suma de sus numero es de {suma}\")"
   ]
  },
  {
   "cell_type": "code",
   "execution_count": null,
   "id": "22eadcd2",
   "metadata": {},
   "outputs": [],
   "source": [
    "# Ejercicio 5\n",
    "\n",
    "import random\n",
    "\n",
    "#variable para manipular el bucle y contador de intentos\n",
    "x=0\n",
    "intentos = 1\n",
    "# creamos el numero aleatorio\n",
    "num_aleatorio = random.randint(0,9)\n",
    "\n",
    "while x == 0:\n",
    "    mi_num = int(input(\"Adivina el numero de 0 a 9: \"))\n",
    "    # Si adivinamos el numero el bucle se termina\n",
    "    if mi_num == num_aleatorio:\n",
    "        x = 1\n",
    "    else:\n",
    "    # Sino sumamos un intento y vamos a adivinar nuevamente\n",
    "        intentos += 1\n",
    "\n",
    "print(f\"Adivinaste el numero en {intentos} intentos\")"
   ]
  },
  {
   "cell_type": "code",
   "execution_count": null,
   "id": "596c8284",
   "metadata": {},
   "outputs": [],
   "source": [
    "# Ejercicio 6\n",
    "# de 100 a 0 bajando -2 para obtener numeros pares\n",
    "for i in range (100, -1, -2):\n",
    "    print(i)"
   ]
  },
  {
   "cell_type": "code",
   "execution_count": null,
   "id": "4c97dedc",
   "metadata": {},
   "outputs": [
    {
     "name": "stdout",
     "output_type": "stream",
     "text": [
      "6\n"
     ]
    }
   ],
   "source": [
    "# Ejercicio 7\n",
    "\n",
    "#variable para manipular el bucle\n",
    "num = -1\n",
    "# Iniciamos un bucle para que el usuario ingrese un numero positivo\n",
    "while num < 0:\n",
    "    num = int(input(\"Ingrse un numero positivo: \"))\n",
    "\n",
    "#Una vez que tengamos el numero positivo, sumamos los numeros comprendidos\n",
    "# entre 0 y el ingresado incluido\n",
    "suma = 0\n",
    "for i in range (0, num+1):\n",
    "        suma += i\n",
    "\n",
    "print(suma)"
   ]
  },
  {
   "cell_type": "code",
   "execution_count": null,
   "id": "c5e41119",
   "metadata": {},
   "outputs": [],
   "source": [
    "# Ejercicio 8\n",
    "\n",
    "# Variables para contar las cantidades\n",
    "par = 0\n",
    "impar = 0\n",
    "positivo = 0\n",
    "negativo = 0\n",
    "\n",
    "# Bucle para ingresar 100 numeros (modificable para hacer pequeñas pruebas)\n",
    "for i in range(1,100+1):\n",
    "    num = int(input(\"Ingrese un numero: \"))\n",
    "    # Verificamos si es positivo o negativo y lo sumamos a las cantidades\n",
    "    if num >= 0:\n",
    "        positivo += 1\n",
    "    else:\n",
    "        negativo += 1\n",
    "    # Verificamos si es par o impar y lo sumamos a las cantidades\n",
    "    if num % 2 == 0:\n",
    "        par += 1\n",
    "    else:\n",
    "        impar += 1\n",
    "\n",
    "print(f\"cantidad de numeros pasotivos: {positivo}\")\n",
    "print(f\"cantidad de numeros negativos: {negativo}\")\n",
    "print(f\"cantidad de numeros pares: {par}\")\n",
    "print(f\"cantidad de numeros impares: {impar}\")\n",
    "\n"
   ]
  },
  {
   "cell_type": "code",
   "execution_count": null,
   "id": "2b190f5a",
   "metadata": {},
   "outputs": [],
   "source": [
    "# Ejercicio 9\n",
    "#importamos la media de la biblioteca statistics\n",
    "from statistics import mean\n",
    "#creamos una lista vacia\n",
    "numeros=[]\n",
    "# Bucle para ingresar 100 numero\n",
    "for i in range(1,100+1):\n",
    "    num = int(input(\"Ingrese un numero: \"))\n",
    "    # ponemos los numeros en la lista creada\n",
    "    numeros.append(num)\n",
    "# en la variable media sacamos la media de la lista por media de mean()\n",
    "media = mean(numeros)\n",
    "print(f\"La media de los numeros ingresados es de: {media}\")"
   ]
  },
  {
   "cell_type": "code",
   "execution_count": null,
   "id": "eedcef74",
   "metadata": {},
   "outputs": [],
   "source": [
    "# Ejercicio 10\n",
    "\n",
    "# variable donde se guarda el nuemro ingresado\n",
    "numero = int(input(\"Ingrese un numero: \"))\n",
    "# convertimos el numero en str para poder invertirlo con [::-1], luego volvemos a pasarlo a int\n",
    "numero_inverido =int(str(numero)[::-1])\n",
    "\n",
    "print(f\"Invertimos el numero ingresado: {numero_inverido}\")"
   ]
  }
 ],
 "metadata": {
  "kernelspec": {
   "display_name": "Python 3",
   "language": "python",
   "name": "python3"
  },
  "language_info": {
   "codemirror_mode": {
    "name": "ipython",
    "version": 3
   },
   "file_extension": ".py",
   "mimetype": "text/x-python",
   "name": "python",
   "nbconvert_exporter": "python",
   "pygments_lexer": "ipython3",
   "version": "3.10.2"
  }
 },
 "nbformat": 4,
 "nbformat_minor": 5
}
