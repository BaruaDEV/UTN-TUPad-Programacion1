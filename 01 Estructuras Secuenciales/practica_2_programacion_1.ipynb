{
 "cells": [
  {
   "cell_type": "code",
   "execution_count": null,
   "id": "542e3560",
   "metadata": {},
   "outputs": [],
   "source": [
    "# TP SECUENCIALES #\n",
    "\n",
    "# actividad 1: #\n",
    "\n",
    "print (\"Hola Mundo!\")\n"
   ]
  },
  {
   "cell_type": "code",
   "execution_count": null,
   "id": "b48dcc2f",
   "metadata": {},
   "outputs": [],
   "source": [
    "# actividad 2: #\n",
    "\n",
    "x = input(\"Ingrese su nombre: \")\n",
    "print(f\"Hola {x}!\" )"
   ]
  },
  {
   "cell_type": "code",
   "execution_count": null,
   "id": "505e7406",
   "metadata": {},
   "outputs": [],
   "source": [
    "# actividad 3: #\n",
    "\n",
    "nombre = input(\"Ingrese su nombre: \")\n",
    "apellido = input(\"Ingrese su apellido: \")\n",
    "edad = input(\"Ingrese su edad: \")\n",
    "residencia = input(\"Ingrese su lugar de residencia: \")\n",
    "\n",
    "print(f\"Soy {nombre} {apellido}, tengo {edad} años y vivo en {residencia}\")"
   ]
  },
  {
   "cell_type": "code",
   "execution_count": null,
   "id": "4667f338",
   "metadata": {},
   "outputs": [],
   "source": [
    "# Actividad 4: #\n",
    "\n",
    "radio = float(input(\"Ingrese el radio de un círculo: \"))\n",
    "area =  3.14 * radio**2\n",
    "perimetro = 2 * 3.14 * radio\n",
    "\n",
    "print(f\"EL área del circulo es: {area}, y el perimetro es: {perimetro}.\")"
   ]
  },
  {
   "cell_type": "code",
   "execution_count": null,
   "id": "4b58543a",
   "metadata": {},
   "outputs": [],
   "source": [
    "# Actividad 5: #\n",
    "\n",
    "seg = float(input(\"Ingrese cantidad de segundos: \"))\n",
    "\n",
    "horas = seg / 3600\n",
    "\n",
    "print(f\"la cantidad de horas en los segundos ingresasdos es de: {horas}.\")"
   ]
  },
  {
   "cell_type": "code",
   "execution_count": null,
   "id": "ab0e5c13",
   "metadata": {},
   "outputs": [],
   "source": [
    "# Actividad 6: #\n",
    "\n",
    "num = int(input(\"Ingrese un número: \"))\n",
    "\n",
    "for i in range(1,11):\n",
    "    print(f\"{num} x {i} = {num*i}\")\n"
   ]
  },
  {
   "cell_type": "code",
   "execution_count": null,
   "id": "62cc701d",
   "metadata": {},
   "outputs": [],
   "source": [
    "# Activida 7: #\n",
    "\n",
    "num_1 = int(input(\"Ingrese un número entero que no sea 0: \"))\n",
    "num_2  = int(input(\"Ingrese otro número entero que no sea 0: \"))\n",
    "\n",
    "if num_1 == 0 or num_2 == 0:\n",
    "    print(\"Error, los números ingresados deben ser distintos a 0\")\n",
    "else:\n",
    "    print(f\"\"\"La suma de los números {num_1} y {num_2} es de:{num_1+num_2}\n",
    "La resta de los números {num_1} y {num_2} es de:{num_1-num_2}\n",
    "La multiplicación de los números {num_1} y {num_2} es de:{num_1*num_2}\n",
    "La división de los números {num_1} y {num_2} es de:{num_1/num_2}\"\"\")"
   ]
  },
  {
   "cell_type": "code",
   "execution_count": null,
   "id": "c6720f95",
   "metadata": {},
   "outputs": [],
   "source": [
    "# Actividad 8: #\n",
    "\n",
    "altura = float(input(\"Ingrese su altura: \"))\n",
    "peso = float(input(\"Ingrese su peso: \"))\n",
    "\n",
    "print(f\"su índice de masa corporal es de: {round(peso / altura**2,2)}\")"
   ]
  },
  {
   "cell_type": "code",
   "execution_count": null,
   "id": "db51193f",
   "metadata": {},
   "outputs": [],
   "source": [
    "# Actividad 9: #\n",
    "\n",
    "celsius = float(input(\"Ingrese temperatura en celsius: \"))\n",
    "\n",
    "print(f\"La temperatura de {celsius} celsius equivale a {celsius * 1.8 + 32} fahrenheit\")"
   ]
  },
  {
   "cell_type": "code",
   "execution_count": null,
   "id": "5a9d3a0c",
   "metadata": {},
   "outputs": [],
   "source": [
    "# Actividad 10: #\n",
    "\n",
    "num_1 = float(input(\"Ingrese el primer número: \"))\n",
    "num_2 = float(input(\"Ingrese el segundo número: \"))\n",
    "num_3 = float(input(\"Ingrese el tercer número: \"))\n",
    "\n",
    "print(f\"El promedio de los 3 número ingresados es de: {(num_1 + num_2 + num_3) / 3}\")"
   ]
  }
 ],
 "metadata": {
  "language_info": {
   "name": "python"
  }
 },
 "nbformat": 4,
 "nbformat_minor": 5
}
