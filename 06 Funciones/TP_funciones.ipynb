{
 "cells": [
  {
   "cell_type": "code",
   "execution_count": null,
   "id": "5795c161",
   "metadata": {},
   "outputs": [],
   "source": [
    "# Ejercicio 1\n",
    "def imprimir_hola_mundo():\n",
    "    print(\"Hola Mundo!\")\n",
    "\n",
    "imprimir_hola_mundo()"
   ]
  },
  {
   "cell_type": "code",
   "execution_count": null,
   "id": "506bc7d0",
   "metadata": {},
   "outputs": [],
   "source": [
    "# Ejercicio 2\n",
    "def saludar_usuario(nombre):\n",
    "    return f'Hola {nombre}!'\n",
    "\n",
    "saludar_usuario(input(\"Ingrese su nombre: \"))"
   ]
  },
  {
   "cell_type": "code",
   "execution_count": null,
   "id": "b9c9170f",
   "metadata": {},
   "outputs": [],
   "source": [
    "# Ejercicio 3\n",
    "def  informacion_personal(nombre, apellido, edad, residencia):\n",
    "    print(f\" Soy {nombre} {apellido}, tengo {edad} años y vivo en {residencia}\")\n",
    "\n",
    "nombre = input(\"Ingrese su nombre: \")\n",
    "apellido = input(\"Ingrese su apellido: \")\n",
    "edad = int(input(\"Ingrese su edad: \"))\n",
    "residencia = input(\"Ingrese su lugar de residencia: \")\n",
    "\n",
    "informacion_personal(nombre, apellido, edad, residencia)"
   ]
  },
  {
   "cell_type": "code",
   "execution_count": null,
   "id": "050893bc",
   "metadata": {},
   "outputs": [],
   "source": [
    "# Ejercicio 4\n",
    "def calcular_area_circulo(radio):\n",
    "    return 3.14 * (radio**2)\n",
    "\n",
    "def  calcular_perimetro_circulo(radio):\n",
    "    return (2 * 3.14) * radio\n",
    "\n",
    "num = int(input(\"Ingrese radio: \"))\n",
    "\n",
    "# el ejercicio pide solo retornar pero para que se muestre en pantalla el resultado debemos usar print()\n",
    "print(calcular_area_circulo(num))\n",
    "print(calcular_perimetro_circulo(num))\n",
    "\n"
   ]
  },
  {
   "cell_type": "code",
   "execution_count": null,
   "id": "4fa48d22",
   "metadata": {},
   "outputs": [],
   "source": [
    "# Ejercicio 5\n",
    "def segundos_a_horas(segundos):\n",
    "    return segundos / 3600\n",
    "\n",
    "resultado = segundos_a_horas(int(input(\"Ingrese cantidad de segundos: \")))\n",
    "print(round(resultado, 2))"
   ]
  },
  {
   "cell_type": "code",
   "execution_count": null,
   "id": "1f90dd92",
   "metadata": {},
   "outputs": [],
   "source": [
    "# Ejercicio 6\n",
    "def tabla_multiplicar(numero):\n",
    "    for i in range(1,11):\n",
    "        resultado = i * numero\n",
    "        print(f\"{numero} x {i} = {resultado}\")\n",
    "\n",
    "\n",
    "tabla_multiplicar(int(input(\"Ingrese numero de la tabla deseada: \")))"
   ]
  },
  {
   "cell_type": "code",
   "execution_count": null,
   "id": "4a297209",
   "metadata": {},
   "outputs": [],
   "source": [
    "# Ejercicio 7\n",
    "def operaciones_basicas(a, b):\n",
    "    suma  = a + b\n",
    "    resta = a - b\n",
    "    multiplicacion = a * b\n",
    "    division = a / b\n",
    "    print(f\"(suma = {suma}),( resta = {resta}), (multiplicacion = {multiplicacion}), (division = {round(division, 2)})  \")\n",
    "\n",
    "num1 = int(input(\"ingrese un numero: \"))\n",
    "num2 = int(input(\"Ingrese el segundo numero:\"))\n",
    "\n",
    "operaciones_basicas(num1, num2)"
   ]
  },
  {
   "cell_type": "code",
   "execution_count": null,
   "id": "40270711",
   "metadata": {},
   "outputs": [],
   "source": [
    "# Ejercicio 8\n",
    "def calcular_imc(peso, altura):\n",
    "    resultado = peso / (altura**2)\n",
    "    return resultado\n",
    "\n",
    "peso=float(input(\"Ingrese su peso en kg: \"))\n",
    "altura=float(input(\"Ingrese su altura en mts: \"))\n",
    "\n",
    "print(f\"IMC = {round(calcular_imc(peso,altura),2)}\")"
   ]
  },
  {
   "cell_type": "code",
   "execution_count": null,
   "id": "769bebce",
   "metadata": {},
   "outputs": [],
   "source": [
    "# Ejercicio 9\n",
    "def celsius_a_fahrenheit(celsius):\n",
    "    resultado = celsius * 1.8 + 32\n",
    "    return  resultado\n",
    "\n",
    "celsius = float(input(\"Ingrese temperatura en celsius: \"))\n",
    "farenheit = celsius_a_fahrenheit(celsius)\n",
    "\n",
    "print(f\"{celsius} C° equivale a {farenheit} F°\")"
   ]
  },
  {
   "cell_type": "code",
   "execution_count": null,
   "id": "cab36672",
   "metadata": {},
   "outputs": [],
   "source": [
    "# Ejercicio 10\n",
    "def calcular_promedio(a, b, c):\n",
    "    return (a + b + c) / 3\n",
    "\n",
    "num1 = float(input(\"Ingrese num 1: \"))\n",
    "num2 = float(input(\"Ingrese num 2: \"))\n",
    "num3 = float(input(\"Ingrese num 3: \"))\n",
    "\n",
    "resultado = calcular_promedio(num1,num2,num3)\n",
    "\n",
    "print(f\"El promedio de los numeros ingresados es de: {round(resultado,2)}\")"
   ]
  }
 ],
 "metadata": {
  "kernelspec": {
   "display_name": "Python 3",
   "language": "python",
   "name": "python3"
  },
  "language_info": {
   "codemirror_mode": {
    "name": "ipython",
    "version": 3
   },
   "file_extension": ".py",
   "mimetype": "text/x-python",
   "name": "python",
   "nbconvert_exporter": "python",
   "pygments_lexer": "ipython3",
   "version": "3.10.2"
  }
 },
 "nbformat": 4,
 "nbformat_minor": 5
}
