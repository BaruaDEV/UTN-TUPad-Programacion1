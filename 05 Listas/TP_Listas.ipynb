{
 "cells": [
  {
   "cell_type": "code",
   "execution_count": null,
   "id": "804a87b0",
   "metadata": {},
   "outputs": [],
   "source": [
    "# Ejercicio 1\n",
    "from statistics import mean\n",
    "\n",
    "notas = [5,6,7,8,9,10,6,8,7,4]\n",
    "media = mean(notas)\n",
    "\n",
    "nota_max = max(notas)\n",
    "nota_min= min(notas)\n",
    "\n",
    "print(notas)\n",
    "print(f\"promedio de notas: {media}\")\n",
    "print(f\"la nota mas alta es: {nota_max} y la mas baja es: {nota_min}\")"
   ]
  },
  {
   "cell_type": "code",
   "execution_count": null,
   "id": "f67d3552",
   "metadata": {},
   "outputs": [
    {
     "ename": "TypeError",
     "evalue": "'list' object is not callable",
     "output_type": "error",
     "traceback": [
      "\u001b[1;31m---------------------------------------------------------------------------\u001b[0m",
      "\u001b[1;31mTypeError\u001b[0m                                 Traceback (most recent call last)",
      "Cell \u001b[1;32mIn[13], line 10\u001b[0m\n\u001b[0;32m      7\u001b[0m     productos\u001b[38;5;241m.\u001b[39mappend(x)\n\u001b[0;32m      9\u001b[0m productos_ordenados \u001b[38;5;241m=\u001b[39m \u001b[38;5;28msorted\u001b[39m(productos)\n\u001b[1;32m---> 10\u001b[0m \u001b[38;5;28;43mprint\u001b[39;49m\u001b[43m(\u001b[49m\u001b[43mproductos_ordenados\u001b[49m\u001b[43m)\u001b[49m\n\u001b[0;32m     12\u001b[0m z\u001b[38;5;241m=\u001b[39m\u001b[38;5;28minput\u001b[39m(\u001b[38;5;124m\"\u001b[39m\u001b[38;5;124mingrese el nombre de producto a eliminar: \u001b[39m\u001b[38;5;124m\"\u001b[39m)\n\u001b[0;32m     14\u001b[0m \u001b[38;5;28;01mif\u001b[39;00m z \u001b[38;5;129;01min\u001b[39;00m productos:\n",
      "\u001b[1;31mTypeError\u001b[0m: 'list' object is not callable"
     ]
    }
   ],
   "source": [
    "# Ejercicio 2\n",
    "\n",
    "productos = []\n",
    "\n",
    "for i in range(5):\n",
    "    x = str(input(\"ingrese producto: \"))\n",
    "    productos.append(x)\n",
    "\n",
    "productos_ordenados = sorted(productos)\n",
    "print(productos_ordenados)\n",
    "\n",
    "z=input(\"ingrese el nombre de producto a eliminar: \")\n",
    "\n",
    "if z in productos:\n",
    "    productos.remove(z)\n",
    "    print(f\"Lista de productos actualizada: {productos}\")\n",
    "else:\n",
    "    print(\"El producto no se encuentra en la lista de productos\")"
   ]
  }
 ],
 "metadata": {
  "kernelspec": {
   "display_name": "Python 3",
   "language": "python",
   "name": "python3"
  },
  "language_info": {
   "codemirror_mode": {
    "name": "ipython",
    "version": 3
   },
   "file_extension": ".py",
   "mimetype": "text/x-python",
   "name": "python",
   "nbconvert_exporter": "python",
   "pygments_lexer": "ipython3",
   "version": "3.10.2"
  }
 },
 "nbformat": 4,
 "nbformat_minor": 5
}
