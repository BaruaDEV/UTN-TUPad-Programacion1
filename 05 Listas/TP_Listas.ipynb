{
 "cells": [
  {
   "cell_type": "code",
   "execution_count": null,
   "id": "804a87b0",
   "metadata": {},
   "outputs": [],
   "source": [
    "# Ejercicio 1\n",
    "from statistics import mean\n",
    "\n",
    "notas = [5,6,7,8,9,10,6,8,7,4]\n",
    "media = mean(notas)\n",
    "\n",
    "nota_max = max(notas)\n",
    "nota_min= min(notas)\n",
    "\n",
    "print(notas)\n",
    "print(f\"promedio de notas: {media}\")\n",
    "print(f\"la nota mas alta es: {nota_max} y la mas baja es: {nota_min}\")"
   ]
  },
  {
   "cell_type": "code",
   "execution_count": null,
   "id": "f67d3552",
   "metadata": {},
   "outputs": [],
   "source": [
    "# Ejercicio 2\n",
    "\n",
    "productos = []\n",
    "\n",
    "for i in range(5):\n",
    "    x = str(input(\"ingrese producto: \"))\n",
    "    productos.append(x)\n",
    "\n",
    "productos_ordenados = sorted(productos)\n",
    "print(productos_ordenados)\n",
    "\n",
    "z=input(\"ingrese el nombre de producto a eliminar: \")\n",
    "\n",
    "if z in productos:\n",
    "    productos.remove(z)\n",
    "    print(f\"Lista de productos actualizada: {productos}\")\n",
    "else:\n",
    "    print(\"El producto no se encuentra en la lista de productos\")"
   ]
  },
  {
   "cell_type": "code",
   "execution_count": null,
   "id": "8880babb",
   "metadata": {},
   "outputs": [],
   "source": [
    "# Ejercicio 3\n",
    "\n",
    "import random\n",
    "\n",
    "numeros_aleatorios = []\n",
    "lista_par = []\n",
    "lista_impar = []\n",
    "\n",
    "for i in range(15):\n",
    "    x = random.randint(1,100)\n",
    "    numeros_aleatorios.append(x)\n",
    "\n",
    "for i in numeros_aleatorios:\n",
    "    if i % 2 == 0:\n",
    "        lista_par.append(i)\n",
    "    else:\n",
    "        lista_impar.append(i)\n",
    "\n",
    "print(numeros_aleatorios)\n",
    "print(lista_par)\n",
    "print(lista_impar)"
   ]
  },
  {
   "cell_type": "code",
   "execution_count": 4,
   "id": "210e112f",
   "metadata": {},
   "outputs": [
    {
     "name": "stdout",
     "output_type": "stream",
     "text": [
      "{1, 3, 5, 7, 9}\n"
     ]
    }
   ],
   "source": [
    "# Ejercicio 4\n",
    "\n",
    "datos = [1,3,5,3,7,1,9,5,3]\n",
    "datos_sin_repetir = set(datos)\n",
    "\n",
    "print(datos_sin_repetir)"
   ]
  },
  {
   "cell_type": "code",
   "execution_count": null,
   "id": "d7215591",
   "metadata": {},
   "outputs": [],
   "source": [
    "# Ejercicio 5\n",
    "\n",
    "estudiantes = [\"morena\", \"lara\", \"joaquin\", \"tiziano\", \"david\", \"bruno\", \"victoria\", \"hannah\"]\n",
    "\n",
    "x = int(input(\"Si desea agregar un nuevo estudiante ingrese 1, para eliminar un estudiante de la lista ingrese 2\"))\n",
    "\n",
    "if x == 1:\n",
    "    y = str(input(\"Ingrse nombre del nuevo estudiante: \"))\n",
    "    estudiantes.append(y)\n",
    "elif x == 2:\n",
    "    y = str(input(\"ingrese nombre del estudiante a eliminar: \"))\n",
    "    if y in estudiantes:\n",
    "        estudiantes.remove(y)\n",
    "else:\n",
    "    print(\"La opcion ingresada es incorrecta\")\n",
    "\n",
    "print(f\"Lista actualizada: {estudiantes}\")"
   ]
  }
 ],
 "metadata": {
  "kernelspec": {
   "display_name": "Python 3",
   "language": "python",
   "name": "python3"
  },
  "language_info": {
   "codemirror_mode": {
    "name": "ipython",
    "version": 3
   },
   "file_extension": ".py",
   "mimetype": "text/x-python",
   "name": "python",
   "nbconvert_exporter": "python",
   "pygments_lexer": "ipython3",
   "version": "3.10.2"
  }
 },
 "nbformat": 4,
 "nbformat_minor": 5
}
