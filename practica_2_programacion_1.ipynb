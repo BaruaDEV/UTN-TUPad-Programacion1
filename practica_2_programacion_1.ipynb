{
 "cells": [
  {
   "cell_type": "code",
   "execution_count": null,
   "id": "542e3560",
   "metadata": {},
   "outputs": [],
   "source": [
    "# TP SECUENCIALES #\n",
    "\n",
    "# actividad 1: #\n",
    "\n",
    "print (\"Hola Mundo!\")\n"
   ]
  }
 ],
 "metadata": {
  "language_info": {
   "name": "python"
  }
 },
 "nbformat": 4,
 "nbformat_minor": 5
}
